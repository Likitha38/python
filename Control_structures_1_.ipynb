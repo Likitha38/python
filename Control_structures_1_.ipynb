{
  "nbformat": 4,
  "nbformat_minor": 0,
  "metadata": {
    "colab": {
      "provenance": [],
      "include_colab_link": true
    },
    "kernelspec": {
      "name": "python3",
      "display_name": "Python 3"
    },
    "language_info": {
      "name": "python"
    }
  },
  "cells": [
    {
      "cell_type": "markdown",
      "metadata": {
        "id": "view-in-github",
        "colab_type": "text"
      },
      "source": [
        "<a href=\"https://colab.research.google.com/github/Likitha38/python/blob/main/Control_structures_1_.ipynb\" target=\"_parent\"><img src=\"https://colab.research.google.com/assets/colab-badge.svg\" alt=\"Open In Colab\"/></a>"
      ]
    },
    {
      "cell_type": "markdown",
      "source": [
        "** USE THE CONCEPT OF LOOP TO SOLVE TEHE BELOW QUIRIES **"
      ],
      "metadata": {
        "id": "-j3jwvf4Nex8"
      }
    },
    {
      "cell_type": "markdown",
      "source": [
        "  1) Print the first 10 natural numbers using for loop."
      ],
      "metadata": {
        "id": "e5fJbKobMfrV"
      }
    },
    {
      "cell_type": "code",
      "source": [
        "for j in range(1,11):\n",
        "  print(j)#Write your code here"
      ],
      "metadata": {
        "id": "dvVRbCfHMiM2",
        "colab": {
          "base_uri": "https://localhost:8080/"
        },
        "outputId": "f941efd4-7ce5-4619-fa85-f2afbfb735b5"
      },
      "execution_count": 2,
      "outputs": [
        {
          "output_type": "stream",
          "name": "stdout",
          "text": [
            "1\n",
            "2\n",
            "3\n",
            "4\n",
            "5\n",
            "6\n",
            "7\n",
            "8\n",
            "9\n",
            "10\n"
          ]
        }
      ]
    },
    {
      "cell_type": "code",
      "source": [],
      "metadata": {
        "id": "rEg4ZVZiM1nb"
      },
      "execution_count": null,
      "outputs": []
    },
    {
      "cell_type": "markdown",
      "source": [
        "2) Python program to print all the even numbers within the given range.\n",
        "\n",
        "Range = 0 to 100"
      ],
      "metadata": {
        "id": "z6Z_rllrM3EW"
      }
    },
    {
      "cell_type": "code",
      "source": [
        "for j in range(0,100):\n",
        "  if j%2==0:\n",
        "    print(j)#Write your code Here"
      ],
      "metadata": {
        "id": "iu86kKj8MwAr",
        "colab": {
          "base_uri": "https://localhost:8080/"
        },
        "outputId": "aafff64d-cbbf-4ba7-abee-317f28da6825"
      },
      "execution_count": 3,
      "outputs": [
        {
          "output_type": "stream",
          "name": "stdout",
          "text": [
            "0\n",
            "2\n",
            "4\n",
            "6\n",
            "8\n",
            "10\n",
            "12\n",
            "14\n",
            "16\n",
            "18\n",
            "20\n",
            "22\n",
            "24\n",
            "26\n",
            "28\n",
            "30\n",
            "32\n",
            "34\n",
            "36\n",
            "38\n",
            "40\n",
            "42\n",
            "44\n",
            "46\n",
            "48\n",
            "50\n",
            "52\n",
            "54\n",
            "56\n",
            "58\n",
            "60\n",
            "62\n",
            "64\n",
            "66\n",
            "68\n",
            "70\n",
            "72\n",
            "74\n",
            "76\n",
            "78\n",
            "80\n",
            "82\n",
            "84\n",
            "86\n",
            "88\n",
            "90\n",
            "92\n",
            "94\n",
            "96\n",
            "98\n"
          ]
        }
      ]
    },
    {
      "cell_type": "markdown",
      "source": [
        "3) Python program to calculate the sum of all numbers from 1 to a given number.\n",
        "\n",
        "Given Range = 15"
      ],
      "metadata": {
        "id": "8d-LECSINC6s"
      }
    },
    {
      "cell_type": "code",
      "source": [
        "b=int(input())\n",
        "sum=0\n",
        "for j in range(1,b):\n",
        "  sum = sum+j\n",
        "print(sum)#Write your Code Here"
      ],
      "metadata": {
        "id": "bBd7nbLLNSoA",
        "colab": {
          "base_uri": "https://localhost:8080/"
        },
        "outputId": "9ab888ea-5874-443d-d00d-8b3747a345d4"
      },
      "execution_count": 8,
      "outputs": [
        {
          "output_type": "stream",
          "name": "stdout",
          "text": [
            "15\n",
            "105\n"
          ]
        }
      ]
    },
    {
      "cell_type": "markdown",
      "source": [
        "4) Python program to calculate the sum of all the odd numbers within the given range.\n",
        "\n",
        "Given Range = 10"
      ],
      "metadata": {
        "id": "nKJA-USXNRsk"
      }
    },
    {
      "cell_type": "code",
      "source": [
        "b=int(input())\n",
        "sum=0\n",
        "for j in range(1,b):\n",
        "  if j%2!=0:\n",
        "    sum += j\n",
        "print(sum)# Write your code Here"
      ],
      "metadata": {
        "id": "Q520Z2gXNwMV",
        "colab": {
          "base_uri": "https://localhost:8080/"
        },
        "outputId": "a51297ec-da83-46ed-9148-f9ebd9bfb434"
      },
      "execution_count": 9,
      "outputs": [
        {
          "output_type": "stream",
          "name": "stdout",
          "text": [
            "10\n",
            "25\n"
          ]
        }
      ]
    },
    {
      "cell_type": "markdown",
      "source": [
        "5) Python program to print a multiplication table of a given number\n",
        "\n",
        "given number = 5"
      ],
      "metadata": {
        "id": "uTwmyMFiNEM8"
      }
    },
    {
      "cell_type": "code",
      "source": [
        "b=int(input())\n",
        "for j in range(1,11):\n",
        "  print(b, 'x', j, '=',j*b)# Write your code here"
      ],
      "metadata": {
        "id": "ZlLy8g2kN6F7",
        "colab": {
          "base_uri": "https://localhost:8080/"
        },
        "outputId": "62bdcdcf-19fb-43b6-e4cd-c0ebe8405333"
      },
      "execution_count": 10,
      "outputs": [
        {
          "output_type": "stream",
          "name": "stdout",
          "text": [
            "5\n",
            "5 x 1 = 5\n",
            "5 x 2 = 10\n",
            "5 x 3 = 15\n",
            "5 x 4 = 20\n",
            "5 x 5 = 25\n",
            "5 x 6 = 30\n",
            "5 x 7 = 35\n",
            "5 x 8 = 40\n",
            "5 x 9 = 45\n",
            "5 x 10 = 50\n"
          ]
        }
      ]
    }
  ]
}