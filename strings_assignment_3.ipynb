{
  "nbformat": 4,
  "nbformat_minor": 0,
  "metadata": {
    "colab": {
      "provenance": [],
      "include_colab_link": true
    },
    "kernelspec": {
      "name": "python3",
      "display_name": "Python 3"
    },
    "language_info": {
      "name": "python"
    }
  },
  "cells": [
    {
      "cell_type": "markdown",
      "metadata": {
        "id": "view-in-github",
        "colab_type": "text"
      },
      "source": [
        "<a href=\"https://colab.research.google.com/github/Likitha38/python/blob/main/strings_assignment_3.ipynb\" target=\"_parent\"><img src=\"https://colab.research.google.com/assets/colab-badge.svg\" alt=\"Open In Colab\"/></a>"
      ]
    },
    {
      "cell_type": "markdown",
      "source": [
        "1.Write a Python program to count the number of vowels in a string.\n",
        "\n",
        "input : hasdfgeuionhjl"
      ],
      "metadata": {
        "id": "q8RkYTES1QUW"
      }
    },
    {
      "cell_type": "code",
      "source": [
        "string='hasdfgeuionhjl'\n",
        "vowels='aeiouAEIOU'\n",
        "print(sum(string.count(vowel) for vowel in vowels))# write your code here"
      ],
      "metadata": {
        "id": "UHi6ezjV1X0s",
        "colab": {
          "base_uri": "https://localhost:8080/"
        },
        "outputId": "90650802-d5f7-4145-9061-779ab576f313"
      },
      "execution_count": 1,
      "outputs": [
        {
          "output_type": "stream",
          "name": "stdout",
          "text": [
            "5\n"
          ]
        }
      ]
    },
    {
      "cell_type": "markdown",
      "source": [
        "2.Write a Python program to count the occurrences of each word in a sentence.\n",
        "\n",
        "input : hi hello hi and and hi more and more programming"
      ],
      "metadata": {
        "id": "v7GBEK161QWy"
      }
    },
    {
      "cell_type": "code",
      "source": [
        "# write your code here\n",
        "input='hi hello hi and and hi more and more programming'\n",
        "print(len(input))\n",
        "words=input.split()\n",
        "word_count={}\n",
        "for word in words:\n",
        "  word_count[word]=word_count.get(word,0)+1\n",
        "print(word_count)"
      ],
      "metadata": {
        "id": "R-UzDybK1uZo",
        "colab": {
          "base_uri": "https://localhost:8080/"
        },
        "outputId": "1f891311-be5d-412f-c28e-41ace34ce5d0"
      },
      "execution_count": 2,
      "outputs": [
        {
          "output_type": "stream",
          "name": "stdout",
          "text": [
            "48\n",
            "{'hi': 3, 'hello': 1, 'and': 3, 'more': 2, 'programming': 1}\n"
          ]
        }
      ]
    },
    {
      "cell_type": "markdown",
      "source": [
        "3.In python how can you differentiate strings and lists. Give atleast 5 different comparisons between them."
      ],
      "metadata": {
        "id": "evCcw-0H1QY9"
      }
    },
    {
      "cell_type": "markdown",
      "source": [
        "Answer:\n",
        "\n",
        "1.Strings are immutable which means they cannot be changes while lists are mutable which can be modified as needed.\n",
        "\n",
        "2.Strings in Python are sequences of characters enclosed in quotes. Lists are ordered collections of items enclosed in square brackets [].\n",
        "\n",
        "3.Strings can be indexed and sliced to access individual characters or substrings, while lists can be accessed using indices to retrieve or modify elements.\n",
        "\n",
        "4.A string can only contain characters, while a list can contain various data types like integers, floats, booleans, and even other lists within it.\n",
        "\n",
        "5.Both strings and lists are iterable objects in Python, allowing for easy iteration over their elements using loops or comprehension techniques.\n",
        "\n"
      ],
      "metadata": {
        "id": "OfiTI0pv1QbU"
      }
    },
    {
      "cell_type": "markdown",
      "source": [
        "4.Write a string for your own of approximately 40 in length and perform any 5 different string operations on that."
      ],
      "metadata": {
        "id": "riR1PWxG1Qdq"
      }
    },
    {
      "cell_type": "code",
      "source": [
        "#Write your code here\n",
        "a='Python is a versatile programming language.'\n",
        "#length of string\n",
        "print(len(a))\n",
        "#reverse a string\n",
        "print(a[::-1])\n",
        "#concatenate a string\n",
        "print(a[20:29])\n",
        "#to Upper case\n",
        "print(a.upper())\n",
        "#to lower case\n",
        "print(a.lower())"
      ],
      "metadata": {
        "id": "3bHyrDS12e8i",
        "colab": {
          "base_uri": "https://localhost:8080/"
        },
        "outputId": "6201bdb0-e777-4cfa-8448-9b3aed64cc40"
      },
      "execution_count": 3,
      "outputs": [
        {
          "output_type": "stream",
          "name": "stdout",
          "text": [
            "43\n",
            ".egaugnal gnimmargorp elitasrev a si nohtyP\n",
            "e program\n",
            "PYTHON IS A VERSATILE PROGRAMMING LANGUAGE.\n",
            "python is a versatile programming language.\n"
          ]
        }
      ]
    },
    {
      "cell_type": "markdown",
      "source": [
        "5.Explain the concatination in strings with a neat example."
      ],
      "metadata": {
        "id": "bbUm7VVN1Qfu"
      }
    },
    {
      "cell_type": "code",
      "source": [
        "#write your code and explanation here\n",
        "a1=\"Hello\"\n",
        "a2=\"world\"\n",
        "print(a1+\" \"+a2)\n",
        "\n",
        "#formatted string\n",
        "a1 = \"Python\"\n",
        "a2 = \"programming\"\n",
        "print(f\"{a1} is a popular language for {a2}\")"
      ],
      "metadata": {
        "id": "y9292Q452tF0",
        "colab": {
          "base_uri": "https://localhost:8080/"
        },
        "outputId": "dc97c260-5d6f-4cc8-f37d-b5323f485f66"
      },
      "execution_count": 6,
      "outputs": [
        {
          "output_type": "stream",
          "name": "stdout",
          "text": [
            "Hello world\n",
            "Python is a popular language for programming\n"
          ]
        }
      ]
    },
    {
      "cell_type": "code",
      "source": [],
      "metadata": {
        "id": "vnMNtJgq2xuG"
      },
      "execution_count": null,
      "outputs": []
    }
  ]
}